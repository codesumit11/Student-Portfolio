{
 "cells": [
  {
   "cell_type": "markdown",
   "id": "92334482",
   "metadata": {},
   "source": [
    "# Student Portfolio\n"
   ]
  },
  {
   "cell_type": "code",
   "execution_count": 1,
   "id": "e1538cd8",
   "metadata": {},
   "outputs": [
    {
     "name": "stdout",
     "output_type": "stream",
     "text": [
      "******************************\n",
      "Basic Details\n",
      "******************************\n",
      "Enter name of the Student:Sumit Kumar Singh\n",
      "Enter class of the Student:X\n",
      "Enter section of the Student:B\n",
      "Enter roll no. of the Student:54\n",
      "******************************\n",
      "Academic Details\n",
      "******************************\n",
      "Enter marks for Maths:86\n",
      "Enter marks for Science:83\n",
      "Enter marks for Computer:86\n",
      "******************************\n",
      "Student Details\n",
      "******************************\n",
      "Name of the Student:Sumit Kumar Singh\n",
      "Standard and Division of the Student:X B\n",
      "Student ID No.:54\n",
      "Marks scored in Maths:86\n",
      "Marks scored in Science:83\n",
      "Marks scored in Computer:86\n",
      "Percentage obtained by the Student:85.0%\n",
      "******************************\n"
     ]
    }
   ],
   "source": [
    "print(\"*\"*30)\n",
    "print(\"Basic Details\")\n",
    "print(\"*\"*30)\n",
    "name=str(input(\"Enter name of the Student:\"))\n",
    "std=str(input(\"Enter class of the Student:\"))\n",
    "div=str(input(\"Enter section of the Student:\"))\n",
    "roll=int(input(\"Enter roll no. of the Student:\"))\n",
    "print(\"*\"*30)\n",
    "print(\"Academic Details\")\n",
    "print(\"*\"*30)\n",
    "sub1=int(input(\"Enter marks for Maths:\"))\n",
    "sub2=int(input(\"Enter marks for Science:\"))\n",
    "sub3=int(input(\"Enter marks for Computer:\"))\n",
    "marksSecured=(sub1+sub2+sub3)\n",
    "percent=(marksSecured/300)*100\n",
    "print(\"*\"*30)\n",
    "print(\"Student Details\")\n",
    "print(\"*\"*30)\n",
    "print(\"Name of the Student:{}\".format(name))\n",
    "print(\"Standard and Division of the Student:{} {}\".format(std,div))\n",
    "print(\"Student ID No.:{}\".format(roll))\n",
    "print(\"Marks scored in Maths:{}\".format(sub1))\n",
    "print(\"Marks scored in Science:{}\".format(sub2))\n",
    "print(\"Marks scored in Computer:{}\".format(sub3))\n",
    "print(\"Percentage obtained by the Student:{}%\".format(percent))\n",
    "print(\"*\"*30)\n"
   ]
  },
  {
   "cell_type": "code",
   "execution_count": null,
   "id": "5904b77d",
   "metadata": {},
   "outputs": [],
   "source": []
  },
  {
   "cell_type": "code",
   "execution_count": null,
   "id": "1ae4c5fb",
   "metadata": {},
   "outputs": [],
   "source": []
  }
 ],
 "metadata": {
  "kernelspec": {
   "display_name": "Python 3 (ipykernel)",
   "language": "python",
   "name": "python3"
  },
  "language_info": {
   "codemirror_mode": {
    "name": "ipython",
    "version": 3
   },
   "file_extension": ".py",
   "mimetype": "text/x-python",
   "name": "python",
   "nbconvert_exporter": "python",
   "pygments_lexer": "ipython3",
   "version": "3.9.12"
  }
 },
 "nbformat": 4,
 "nbformat_minor": 5
}
